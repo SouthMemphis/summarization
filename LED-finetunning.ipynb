{
 "cells": [
  {
   "cell_type": "code",
   "execution_count": 1,
   "id": "71da81bc",
   "metadata": {},
   "outputs": [
    {
     "name": "stderr",
     "output_type": "stream",
     "text": [
      "C:\\Users\\yaroslav\\anaconda3\\envs\\newtorch\\Lib\\site-packages\\tqdm\\auto.py:21: TqdmWarning: IProgress not found. Please update jupyter and ipywidgets. See https://ipywidgets.readthedocs.io/en/stable/user_install.html\n",
      "  from .autonotebook import tqdm as notebook_tqdm\n"
     ]
    }
   ],
   "source": [
    "from datasets import load_dataset, load_metric, Dataset\n",
    "import torch\n",
    "from transformers import AutoTokenizer\n",
    "from transformers import AutoModelForSeq2SeqLM\n",
    "from transformers import Seq2SeqTrainer, Seq2SeqTrainingArguments\n",
    "import wandb"
   ]
  },
  {
   "cell_type": "code",
   "execution_count": 2,
   "id": "80ad02de",
   "metadata": {},
   "outputs": [
    {
     "name": "stderr",
     "output_type": "stream",
     "text": [
      "Failed to detect the name of this notebook, you can set it manually with the WANDB_NOTEBOOK_NAME environment variable to enable code saving.\n",
      "\u001b[34m\u001b[1mwandb\u001b[0m: Currently logged in as: \u001b[33msouth_memphis\u001b[0m. Use \u001b[1m`wandb login --relogin`\u001b[0m to force relogin\n"
     ]
    },
    {
     "data": {
      "text/html": [
       "Tracking run with wandb version 0.16.1"
      ],
      "text/plain": [
       "<IPython.core.display.HTML object>"
      ]
     },
     "metadata": {},
     "output_type": "display_data"
    },
    {
     "data": {
      "text/html": [
       "Run data is saved locally in <code>C:\\Users\\yaroslav\\Desktop\\project\\wandb\\run-20231215_161243-6juzt9dy</code>"
      ],
      "text/plain": [
       "<IPython.core.display.HTML object>"
      ]
     },
     "metadata": {},
     "output_type": "display_data"
    },
    {
     "data": {
      "text/html": [
       "Syncing run <strong><a href='https://wandb.ai/south_memphis/uncategorized/runs/6juzt9dy' target=\"_blank\">wandering-serenity-5</a></strong> to <a href='https://wandb.ai/south_memphis/uncategorized' target=\"_blank\">Weights & Biases</a> (<a href='https://wandb.me/run' target=\"_blank\">docs</a>)<br/>"
      ],
      "text/plain": [
       "<IPython.core.display.HTML object>"
      ]
     },
     "metadata": {},
     "output_type": "display_data"
    },
    {
     "data": {
      "text/html": [
       " View project at <a href='https://wandb.ai/south_memphis/uncategorized' target=\"_blank\">https://wandb.ai/south_memphis/uncategorized</a>"
      ],
      "text/plain": [
       "<IPython.core.display.HTML object>"
      ]
     },
     "metadata": {},
     "output_type": "display_data"
    },
    {
     "data": {
      "text/html": [
       " View run at <a href='https://wandb.ai/south_memphis/uncategorized/runs/6juzt9dy' target=\"_blank\">https://wandb.ai/south_memphis/uncategorized/runs/6juzt9dy</a>"
      ],
      "text/plain": [
       "<IPython.core.display.HTML object>"
      ]
     },
     "metadata": {},
     "output_type": "display_data"
    },
    {
     "data": {
      "text/html": [
       "<button onClick=\"this.nextSibling.style.display='block';this.style.display='none';\">Display W&B run</button><iframe src='https://wandb.ai/south_memphis/uncategorized/runs/6juzt9dy?jupyter=true' style='border:none;width:100%;height:420px;display:none;'></iframe>"
      ],
      "text/plain": [
       "<wandb.sdk.wandb_run.Run at 0x23e5e643b10>"
      ]
     },
     "execution_count": 2,
     "metadata": {},
     "output_type": "execute_result"
    }
   ],
   "source": [
    "wandb.init()"
   ]
  },
  {
   "cell_type": "code",
   "execution_count": 3,
   "id": "2bb78d86",
   "metadata": {},
   "outputs": [],
   "source": [
    "train_dataset = load_dataset(\"scientific_papers\", \"pubmed\", split=\"train\")\n",
    "val_dataset = load_dataset(\"scientific_papers\", \"pubmed\", split=\"validation\")"
   ]
  },
  {
   "cell_type": "code",
   "execution_count": 4,
   "id": "30b25232",
   "metadata": {},
   "outputs": [
    {
     "data": {
      "text/plain": [
       "Dataset({\n",
       "    features: ['article', 'abstract', 'section_names'],\n",
       "    num_rows: 119924\n",
       "})"
      ]
     },
     "execution_count": 4,
     "metadata": {},
     "output_type": "execute_result"
    }
   ],
   "source": [
    "train_dataset"
   ]
  },
  {
   "cell_type": "code",
   "execution_count": 5,
   "id": "c0f4879a",
   "metadata": {},
   "outputs": [
    {
     "data": {
      "text/plain": [
       "\"a recent systematic analysis showed that in 2011 , 314 ( 296 - 331 ) million children younger than 5 years were mildly , moderately or severely stunted and 258 ( 240 - 274 ) million were mildly , moderately or severely underweight in the developing countries .\\nin iran a study among 752 high school girls in sistan and baluchestan showed prevalence of 16.2% , 8.6% and 1.5% , for underweight , overweight and obesity , respectively .\\nthe prevalence of malnutrition among elementary school aged children in tehran varied from 6% to 16% .\\nanthropometric study of elementary school students in shiraz revealed that 16% of them suffer from malnutrition and low body weight .\\nsnack should have 300 - 400 kcal energy and could provide 5 - 10 g of protein / day . nowadays , school nutrition programs are running as the national programs , world - wide . national school lunch program in the united states\\nthere are also some reports regarding school feeding programs in developing countries . in vietnam ,\\nschool base program showed an improvement in nutrient intakes . in iran a national free food program ( nffp )\\nis implemented in elementary schools of deprived areas to cover all poor students . however , this program is not conducted in slums and poor areas of the big cities so many malnourished children with low socio - economic situation are not covered by nffp . although the rate of poverty in areas known as deprived is higher than other areas , many students in deprived areas are not actually poor and can afford food .\\nhence , nutritional value of the nffp is lower than the scientific recommended snacks for this age group .\\nfurthermore , lack of variety of food packages has decreased the tendency of children toward nffp . on the other hand ,\\nthe most important one is ministry of education ( moe ) of iran , which is responsible for selecting and providing the packages for targeted schools .\\nthe ministry of health ( moh ) is supervising the health situation of students and their health needs .\\nwelfare organizations , along with charities , have the indirect effect on nutritional status of students by financial support of their family .\\nprovincial governors have also the role of coordinating and supervising all activities of these organizations .\\nparent - teacher association is a community - based institution that participates in school 's policy such as nffp .\\nin addition to these organizations , nutritional literacy of students , their parents and teachers , is a very important issue , which could affect nutritional status of school age children .\\ntherefore , the present study was conducted with the aim of improving the nffp , so that by its resources all poor children will be covered even in big cities .\\nmoreover , all food packages were replaced by nutritious and diverse packages that were accessible for non - poor children . according to the aim of this study and multiple factors that could affect the problem ,\\npublic health advocacy has been chosen as the best strategy to deal with this issue .\\ntherefore , the present study determines the effects of nutrition intervention in an advocacy process model on the prevalence of underweight in school aged children in the poor area of shiraz , iran .\\nthis interventional study has been carried out between 2009 and 2010 in shiraz , iran .\\nthis survey was approved by the research committee of shiraz university of medical sciences . in coordination with education organization of fars province\\ntwo elementary schools and one middle school in the third region of the urban area of shiraz were selected randomly . in those schools all\\nstudents ( 2897 , 7 - 13 years old ) were screened based on their body mass index ( bmi ) by nutritionists . according to convenience method all\\nstudents divided to two groups based on their economic situation ; family revenue and head of household 's job and nutrition situation ; the first group were poor and malnourished students and the other group were well nourished or well - off students .\\nfor this report , the children 's height and weight were entered into center for disease control and prevention ( cdc ) to calculate bmi and bmi - for - age z - scores based on cdc for diseases control and prevention and growth standards .\\nthe significance of the difference between proportions was calculated using two - tailed z - tests for independent proportions . for implementing the interventions ,\\nthe advocacy process model weight was to the nearest 0.1 kg on a balance scale ( model # seca scale ) .\\nstanding height was measured to the nearest 0.1 cm with a wall - mounted stadiometer .\\nadvocacy group formation : this step was started with stakeholder analysis and identifying the stakeholders .\\nthe team was formed with representatives of all stakeholders include ; education organization , welfare organization , deputy for health of shiraz university , food and cosmetic product supervisory office and several non - governmental organizations and charities . situation analysis : this was carried out by use of existing data such as formal report of organizations , literature review and focus group with experts .\\nthe prevalence of malnutrition and its related factors among students was determined and weaknesses and strengths of the nffp were analyzed .\\naccordingly , three sub - groups were established : research and evaluation , education and justification and executive group . designing the strategies :\\nthree strategies were identified ; education and justification campaign , nutritional intervention ( providing nutritious , safe and diverse snacks ) and networking . performing the interventions : interventions that were implementing in selected schools were providing a diverse and nutritious snack package along with nutrition education for both groups while the first group ( poor and malnourished students ) was utilized the package free of charge .\\neducation and justification intervention : regarding the literature review and expert opinion , an educational group affiliated with the advocacy team has prepared educational booklets about nutritional information for each level ( degree ) .\\naccordingly , education of these booklets has been integrated into regular education of students and they educated and justified for better nutrition life - style .\\nit leads the educational group to hold several meeting with the student 's parents to justify them about the project and its benefit for their children .\\nafter these meetings , parental desire for participation in the project illustrated the effectiveness of the justification meeting with them .\\nfor educate fifteen talk show programs in tv and radio , 12 published papers in the local newspaper , have implemented to mobilize the community and gain their support .\\nhealthy diet , the importance of breakfast and snack in adolescence , wrong food habits among school age children , role of the family to improve food habit of children were the main topics , in which media campaign has focused on .\\nnutritional intervention : the snack basket of the students was replaced with traditional , nutritious and diverse foods . in general , the new snack package in average has provided 380 kcal energy , 15 g protein along with sufficient calcium and iron .\\nlow economic and malnourished children were supported by executive group affiliated with advocacy team and the rest of them prepare their snack by themselves .\\nresearch and evaluation : in this step , the literacy and anthropometric indices ( bmi ) of students were assessed before and after the interventions .\\nthe reference for anthropometric measures was the world health organization / national center for health statistics ( who / nchs ) standards and the cut - offs were - two standard deviations ( sd ) from the mean .\\neach student that was malnourished and poor has been taken into account for free food and nutritious snacks .\\ndemographic information , height , weight and knowledge of the students were measured by use of a validated and reliable ( cronbach 's alpha was 0.61 ) questionnaire .\\nthis project is granted by shiraz university of medical sciences , charities and welfare organization and education organization of fars province .\\nstatistical analyses were performed using the statistical package for the social sciences ( spss ) software , version 17.0 ( spss inc . ,\\nthe results are expressed as mean  sd and proportions as appropriated . in order to determine the effective variables on the malnutrition status\\npaired t test was used to compare the end values with baseline ones in each group .\\nin this project , the who z - score cut - offs used were as follow : using bmi - for - age z - scores ; overweight : > + 1 sd , i.e. , z - score > 1 ( equivalent to bmi 25 kg / m ) , obesity : > + 2 sd ( equivalent to bmi 30 kg / m ) , thinness : < 2 sd and severe thinness : < 3 sd .\\nthis interventional study has been carried out between 2009 and 2010 in shiraz , iran .\\nthis survey was approved by the research committee of shiraz university of medical sciences . in coordination with education organization of fars province\\ntwo elementary schools and one middle school in the third region of the urban area of shiraz were selected randomly . in those schools all\\nstudents ( 2897 , 7 - 13 years old ) were screened based on their body mass index ( bmi ) by nutritionists . according to convenience method all\\nstudents divided to two groups based on their economic situation ; family revenue and head of household 's job and nutrition situation ; the first group were poor and malnourished students and the other group were well nourished or well - off students .\\nfor this report , the children 's height and weight were entered into center for disease control and prevention ( cdc ) to calculate bmi and bmi - for - age z - scores based on cdc for diseases control and prevention and growth standards .\\nthe significance of the difference between proportions was calculated using two - tailed z - tests for independent proportions . for implementing the interventions ,\\nweight was to the nearest 0.1 kg on a balance scale ( model # seca scale ) .\\nstanding height was measured to the nearest 0.1 cm with a wall - mounted stadiometer .\\nadvocacy group formation : this step was started with stakeholder analysis and identifying the stakeholders .\\nthe team was formed with representatives of all stakeholders include ; education organization , welfare organization , deputy for health of shiraz university , food and cosmetic product supervisory office and several non - governmental organizations and charities . situation analysis : this was carried out by use of existing data such as formal report of organizations , literature review and focus group with experts .\\nthe prevalence of malnutrition and its related factors among students was determined and weaknesses and strengths of the nffp were analyzed .\\naccordingly , three sub - groups were established : research and evaluation , education and justification and executive group . designing the strategies :\\nthree strategies were identified ; education and justification campaign , nutritional intervention ( providing nutritious , safe and diverse snacks ) and networking . performing the interventions : interventions that were implementing in selected schools were providing a diverse and nutritious snack package along with nutrition education for both groups while the first group ( poor and malnourished students ) was utilized the package free of charge . duration of intervention was 6 months .\\neducation and justification intervention : regarding the literature review and expert opinion , an educational group affiliated with the advocacy team has prepared educational booklets about nutritional information for each level ( degree ) .\\naccordingly , education of these booklets has been integrated into regular education of students and they educated and justified for better nutrition life - style . obviously , student 's families had remarkable effect on children 's food habit .\\nit leads the educational group to hold several meeting with the student 's parents to justify them about the project and its benefit for their children .\\nafter these meetings , parental desire for participation in the project illustrated the effectiveness of the justification meeting with them .\\neducate fifteen talk show programs in tv and radio , 12 published papers in the local newspaper , have implemented to mobilize the community and gain their support .\\nhealthy diet , the importance of breakfast and snack in adolescence , wrong food habits among school age children , role of the family to improve food habit of children were the main topics , in which media campaign has focused on .\\nnutritional intervention : the snack basket of the students was replaced with traditional , nutritious and diverse foods . in general , the new snack package in average has provided 380 kcal energy , 15 g protein along with sufficient calcium and iron .\\nlow economic and malnourished children were supported by executive group affiliated with advocacy team and the rest of them prepare their snack by themselves .\\nresearch and evaluation : in this step , the literacy and anthropometric indices ( bmi ) of students were assessed before and after the interventions .\\nthe reference for anthropometric measures was the world health organization / national center for health statistics ( who / nchs ) standards and the cut - offs were - two standard deviations ( sd ) from the mean .\\neach student that was malnourished and poor has been taken into account for free food and nutritious snacks .\\ndemographic information , height , weight and knowledge of the students were measured by use of a validated and reliable ( cronbach 's alpha was 0.61 ) questionnaire .\\nthis project is granted by shiraz university of medical sciences , charities and welfare organization and education organization of fars province .\\nadvocacy group formation : this step was started with stakeholder analysis and identifying the stakeholders .\\nthe team was formed with representatives of all stakeholders include ; education organization , welfare organization , deputy for health of shiraz university , food and cosmetic product supervisory office and several non - governmental organizations and charities .\\nsituation analysis : this was carried out by use of existing data such as formal report of organizations , literature review and focus group with experts .\\nthe prevalence of malnutrition and its related factors among students was determined and weaknesses and strengths of the nffp were analyzed .\\naccordingly , three sub - groups were established : research and evaluation , education and justification and executive group .\\ndesigning the strategies : three strategies were identified ; education and justification campaign , nutritional intervention ( providing nutritious , safe and diverse snacks ) and networking .\\nperforming the interventions : interventions that were implementing in selected schools were providing a diverse and nutritious snack package along with nutrition education for both groups while the first group ( poor and malnourished students ) was utilized the package free of charge .\\neducation and justification intervention : regarding the literature review and expert opinion , an educational group affiliated with the advocacy team has prepared educational booklets about nutritional information for each level ( degree ) .\\naccordingly , education of these booklets has been integrated into regular education of students and they educated and justified for better nutrition life - style . obviously , student 's families had remarkable effect on children 's food habit .\\nit leads the educational group to hold several meeting with the student 's parents to justify them about the project and its benefit for their children .\\nafter these meetings , parental desire for participation in the project illustrated the effectiveness of the justification meeting with them .\\neducate fifteen talk show programs in tv and radio , 12 published papers in the local newspaper , have implemented to mobilize the community and gain their support .\\nhealthy diet , the importance of breakfast and snack in adolescence , wrong food habits among school age children , role of the family to improve food habit of children were the main topics , in which media campaign has focused on . nutritional intervention : the snack basket of the students\\nwas replaced with traditional , nutritious and diverse foods . in general , the new snack package in average has provided 380 kcal energy , 15 g protein along with sufficient calcium and iron .\\nlow economic and malnourished children were supported by executive group affiliated with advocacy team and the rest of them prepare their snack by themselves .\\nresearch and evaluation : in this step , the literacy and anthropometric indices ( bmi ) of students were assessed before and after the interventions .\\nthe reference for anthropometric measures was the world health organization / national center for health statistics ( who / nchs ) standards and the cut - offs were - two standard deviations ( sd ) from the mean .\\neach student that was malnourished and poor has been taken into account for free food and nutritious snacks .\\ndemographic information , height , weight and knowledge of the students were measured by use of a validated and reliable ( cronbach 's alpha was 0.61 ) questionnaire .\\nthis project is granted by shiraz university of medical sciences , charities and welfare organization and education organization of fars province .\\nstatistical analyses were performed using the statistical package for the social sciences ( spss ) software , version 17.0 ( spss inc . , chicago , il , usa ) .\\nthe results are expressed as mean  sd and proportions as appropriated . in order to determine the effective variables on the malnutrition status\\npaired t test was used to compare the end values with baseline ones in each group .\\ntwo - sided p < 0.05 was considered to be statistically significant . in this project ,\\nthe who z - score cut - offs used were as follow : using bmi - for - age z - scores ; overweight : > + 1 sd , i.e. , z - score > 1 ( equivalent to bmi 25 kg / m ) , obesity : > + 2 sd ( equivalent to bmi 30\\nkg / m ) , thinness : < 2 sd and severe thinness : < 3 sd .\\nstudy population contains 2897 children ; 70.8% were primary school students and 29.2% were secondary school students .\\n2336 ( 80.5% ) out of total students were well - off and 561 children ( 19.5% ) were indigent .\\n19.5% of subjects were in case group ( n = 561 ) and 80.5% were in the control group ( n = 2336 ) .\\nthe mean of age in welfare group was 10.0  2.3 and 10.5  2.5 in non - welfare group .\\ndemographic characteristics of school aged children in shiraz , iran table 2 shows the frequency of subjects in different categories of bmi for age in non - welfare and welfare groups of school aged children separately among boys and girls before and after a nutrition intervention based on advocacy process model in shiraz , iran .\\nthe frequency of subjects with bmi lower than < 2 sd decreased significantly after intervention among non - welfare girls ( p < 0.01 ) .\\nhowever , there were no significant decreases in the frequency of subjects with bmi lower than < 2 sd boys .\\nwhen we assess the effect of intervention in total population without separating by sex groups , we found no significant change in this population [ table 3 ] .\\nbmi for age for iranian students aged 7 - 14 years based on gender according to who growth standards 2007 bmi for age for iranian students aged 7 - 14 years according to who growth standards 2007 in non - welfare and welfare groups of total population table 4 has shown the prevalence of normal bmi , mild , moderate and severe malnutrition in non - welfare and welfare groups of school aged children separately among boys and girls before and after a nutrition intervention based on advocacy process model . according to this table\\nthere were no significant differences in the prevalence of mild , moderate and severe malnutrition among girls and boys .\\ntable 4 also shows the mean of all anthropometric indices changed significantly after intervention both among girls and boys .\\nthe pre- and post - test education assessment in both groups showed that the student 's average knowledge score has been significantly increased from 12.5  3.2 to 16.8  4.3 ( p < 0.0001 ) .\\nbmi , height and weight in non - welfare and welfare groups of school aged children separately in males and females before and after a nutrition intervention based on advocacy process model in shiraz , iran according to study 's finding the odds ratio ( or ) of sever thinness and thinness in non - welfare compared with welfare is 3.5 ( or = 3.5 , confidence interval [ ci ] = 2.5 - 3.9 , p < 0.001 ) .\\nfurthermore , the finding showed or of overweight and obesity in welfare compared to non - welfare is 19.3 ( or = 19.3 , ci = 2.5 - 3.9 , p = 0.04 ) .\\nthe result of this community intervention study revealed that nutrition intervention based on advocacy program had been successful to reduce the prevalence of underweight among poor girls .\\nthis study shows determinant factor of nutritional status of school age children was their socio - economic level . according to our knowledge ,\\nthis is the first study , which determines the effect of a community intervention based on advocacy process on the malnutrition indices in a big city ( shiraz ) in iran .\\nthe other program in iran ( nffp ) is specified to deprived area and is not conducted in big cities .\\nallocating millions of dollars to nffp by government , selecting the malnourished students through an active screening system at primary and middle schools , paying attention of policy makers to student 's nutrition have provided the opportunity to combat the problem . however , negligence of under - poverty line , providing poor snacks in terms of nutritional value and lack of variety are the main defects of this program .\\nadvocacy by definition is a blending of science , ethics and politics for comprehensive approaching health issues . by using advocacy program in california among the high school students for improving their nutrition and physical activity\\nangeles unified school district participants emphasized on nutrition classes for families as well as students in addition to other interventions . in the present study\\nanother study revealed that evaluability assessment gave stakeholders the opportunity to reflect on the project and its implementation issues .\\nit seems that in iran , free food program among the students not only is needed in deprived areas , but also it should be performed in big cities such as shiraz . at baseline ,\\nno significant difference was founded among wealthy students between the pre- and post - nutritional status intervention .\\nin contrast , the numbers of students who have malnutrition decreased from 44% to 39.4% , which was identified as a significant among impecunious girls students .\\nthere was also a significant increase in the proportion of children with bmi that was normal for age ( 2 to + 1 sd ) most of the published community interventions showed better results among females compared with males .\\nthis difference in the impact of nutritional interventions between male and female might be related to the different age of puberty in the female population compared to the male population . in the age range of the present study female\\nalthough , there is no nffp in big cities of iran , there are some programs for improving the nutritional status such as providing free milk in schools .\\na recent publication has shown that school feeding programs focus on milk supplementation had beneficial effects on the physical function and school performances specifically among girls in iran .\\nthe results of the mentioned study showed an improvement in the weight of children , psychological test 's scores and the grade - point average following this school feeding program .\\nthe intervention in the present study had focused on the snack intake in the school time .\\nthere are some reports regarding the nutrition transition in iran , which shows the importance of nutrition intervention to provide more healthy eating dietary habits among welfare groups of adolescents .\\nhence , nutrition intervention especially in the form of nutrition education is needed in big cities and among welfare children and adolescents . although a study among iranian adolescents showed that dietary behavior of adolescents does not accord to their knowledge , which emphasize on the necessity of community intervention programs . a recent study regarding the major dietary pattern among iranian children showed the presence of four major dietary patterns , in which fast food pattern and sweet pattern as two major dietary patterns can be mentioned among iranian children . in advocacy program audience 's analysis\\naccordingly , one of the prominent strategies in this study was working with media and was meeting with parent - teacher association that both of them were secondary target audiences\\n. we also took into account policy makers in different levels , from national to local as primary audiences .\\nadvocacy team had several meetings with management and planning organization at national level and education organization of the fars province as well as principal of the targeted schools .\\nproviding nutritious snacks need contribution of private sector such as food industries or factories , but their benefits should be warranted .\\nanother choice was community involvement ; which can be achieved by female health volunteers who are working with the health system .\\nadvocacy team by using the support of charities and female health volunteers could establish a local factory that produced student 's snacks based on the new definition . however , there are some challenges on the way of expanding this program .\\nmass production of the proposed snacks according to different desires and cultures and getting involvement of food industries with respect to marketing issues is one of those challenges .\\nmoreover , providing a supportive environment in order to change the food habits of the students and their parents among the wide range of the population require a sustainable and continuous inter - sector collaboration .\\nalthough in a limited number of schools , in our study , interventions and advocacy program was successful , expanding this model to another areas around the country depends on convincing the policy makers at national level . in this\\nregard , advocacy team should prepare evidenced based profile and transitional planning to convince the policy makers for improving the rule and regulation of nffp .\\nthe same as this study in other studies have also emphasized that there must be efforts to strengthen the capacity within the schools to deal with the nutritional problems either overweight , obesity or malnutrition by using of educational and nutritional intervention .\\nassessing the dietary adherence is very important in nutrition intervention among population . as this population was children and adolescents we had a limitation in the blood sample collection to assess the subject 's dietary adherence .\\nfurthermore , this intervention was only focused on the intake of snack in school time and we did not have comprehensive information on the dietary intake of children and adolescents after school all over the day .\\nthe investigators propose further investigation in different areas of the country based on socio - cultural differences in order to make necessary modification and adapt this model to other areas .\\nregarding the nutritional needs of the school age children , provision of a good platform for implementing and expanding this efficient model to the whole country based upon the socio - economic situation of each region is advisable to the moh and the moe .\\ncommunity nutrition intervention based on the advocacy process model is effective on reducing the prevalence of underweight specifically among female school aged children .\""
      ]
     },
     "execution_count": 5,
     "metadata": {},
     "output_type": "execute_result"
    }
   ],
   "source": [
    "train_dataset['article'][0]"
   ]
  },
  {
   "cell_type": "code",
   "execution_count": 6,
   "id": "1a7a54f8",
   "metadata": {},
   "outputs": [
    {
     "data": {
      "text/plain": [
       "\" background : the present study was carried out to assess the effects of community nutrition intervention based on advocacy approach on malnutrition status among school - aged children in shiraz , iran.materials and methods : this case - control nutritional intervention has been done between 2008 and 2009 on 2897 primary and secondary school boys and girls ( 7 - 13 years old ) based on advocacy approach in shiraz , iran . \\n the project provided nutritious snacks in public schools over a 2-year period along with advocacy oriented actions in order to implement and promote nutritional intervention . for evaluation of effectiveness of the intervention growth monitoring indices of pre- and post - intervention were statistically compared.results:the frequency of subjects with body mass index lower than 5% decreased significantly after intervention among girls ( p = 0.02 ) . \\n however , there were no significant changes among boys or total population . \\n the mean of all anthropometric indices changed significantly after intervention both among girls and boys as well as in total population . \\n the pre- and post - test education assessment in both groups showed that the student 's average knowledge score has been significantly increased from 12.5  3.2 to 16.8  4.3 ( p < 0.0001).conclusion : this study demonstrates the potential success and scalability of school feeding programs in iran . \\n community nutrition intervention based on the advocacy process model is effective on reducing the prevalence of underweight specifically among female school aged children . \""
      ]
     },
     "execution_count": 6,
     "metadata": {},
     "output_type": "execute_result"
    }
   ],
   "source": [
    "train_dataset['abstract'][0]"
   ]
  },
  {
   "cell_type": "code",
   "execution_count": 7,
   "id": "d48619c0",
   "metadata": {},
   "outputs": [],
   "source": [
    "tokenizer = AutoTokenizer.from_pretrained(\"allenai/led-base-16384\")"
   ]
  },
  {
   "cell_type": "code",
   "execution_count": 8,
   "id": "0b426fc4",
   "metadata": {},
   "outputs": [],
   "source": [
    "max_input_length = 8192\n",
    "max_output_length = 512\n",
    "batch_size = 2"
   ]
  },
  {
   "cell_type": "code",
   "execution_count": 9,
   "id": "e964893b",
   "metadata": {},
   "outputs": [],
   "source": [
    "def process_data_to_model_inputs(batch):\n",
    "    inputs = tokenizer(batch[\"article\"], padding=\"max_length\",\n",
    "        truncation=True, max_length=max_input_length)\n",
    "    outputs = tokenizer(batch[\"abstract\"], padding=\"max_length\",\n",
    "        truncation=True,max_length=max_output_length)\n",
    "    batch[\"input_ids\"] = inputs.input_ids\n",
    "    batch[\"attention_mask\"] = inputs.attention_mask\n",
    "    batch[\"global_attention_mask\"] = len(batch[\"input_ids\"]) * [\n",
    "        [0 for _ in range(len(batch[\"input_ids\"][0]))]\n",
    "    ]\n",
    "    batch[\"global_attention_mask\"][0][0] = 1\n",
    "    batch[\"labels\"] = outputs.input_ids\n",
    "    batch[\"labels\"] = [\n",
    "        [-100 if token == tokenizer.pad_token_id else token for token in labels]\n",
    "        for labels in batch[\"labels\"]\n",
    "    ]\n",
    "\n",
    "    return batch"
   ]
  },
  {
   "cell_type": "code",
   "execution_count": 10,
   "id": "9d937f0b",
   "metadata": {},
   "outputs": [],
   "source": [
    "train_dataset = train_dataset.select(range(250))\n",
    "val_dataset = val_dataset.select(range(25))"
   ]
  },
  {
   "cell_type": "code",
   "execution_count": 11,
   "id": "82a0ecc1",
   "metadata": {},
   "outputs": [],
   "source": [
    "train_dataset = train_dataset.map(process_data_to_model_inputs, batched=True,\n",
    "    batch_size=batch_size, remove_columns=[\"article\", \"abstract\", \"section_names\"])"
   ]
  },
  {
   "cell_type": "code",
   "execution_count": 12,
   "id": "3b7e5c66",
   "metadata": {},
   "outputs": [],
   "source": [
    "val_dataset = val_dataset.map(process_data_to_model_inputs,batched=True,\n",
    "    batch_size=batch_size, remove_columns=[\"article\", \"abstract\", \"section_names\"])"
   ]
  },
  {
   "cell_type": "code",
   "execution_count": 13,
   "id": "9263a8de",
   "metadata": {},
   "outputs": [],
   "source": [
    "train_dataset.set_format(\n",
    "    type=\"torch\",\n",
    "    columns=[\"input_ids\", \"attention_mask\", \"global_attention_mask\", \"labels\"],\n",
    ")\n",
    "val_dataset.set_format(\n",
    "    type=\"torch\",\n",
    "    columns=[\"input_ids\", \"attention_mask\", \"global_attention_mask\", \"labels\"],\n",
    ")"
   ]
  },
  {
   "cell_type": "code",
   "execution_count": 14,
   "id": "7dabc47e",
   "metadata": {},
   "outputs": [],
   "source": [
    "led = AutoModelForSeq2SeqLM.from_pretrained(\"allenai/led-base-16384\", gradient_checkpointing=True, use_cache=False)"
   ]
  },
  {
   "cell_type": "code",
   "execution_count": 15,
   "id": "d2d5555b",
   "metadata": {},
   "outputs": [],
   "source": [
    "led.config.num_beams = 2\n",
    "led.config.max_length = 512\n",
    "led.config.min_length = 100\n",
    "led.config.length_penalty = 2.0\n",
    "led.config.early_stopping = True\n",
    "led.config.no_repeat_ngram_size = 3"
   ]
  },
  {
   "cell_type": "code",
   "execution_count": 16,
   "id": "76643a31",
   "metadata": {},
   "outputs": [
    {
     "name": "stderr",
     "output_type": "stream",
     "text": [
      "C:\\Users\\yaroslav\\AppData\\Local\\Temp\\ipykernel_16196\\4132584981.py:1: FutureWarning: load_metric is deprecated and will be removed in the next major version of datasets. Use 'evaluate.load' instead, from the new library 🤗 Evaluate: https://huggingface.co/docs/evaluate\n",
      "  rouge = load_metric(\"rouge\")\n"
     ]
    }
   ],
   "source": [
    "rouge = load_metric(\"rouge\")"
   ]
  },
  {
   "cell_type": "code",
   "execution_count": 17,
   "id": "d2760a50",
   "metadata": {},
   "outputs": [],
   "source": [
    "def compute_metrics(pred):\n",
    "    labels_ids = pred.label_ids\n",
    "    pred_ids = pred.predictions\n",
    "    pred_str = tokenizer.batch_decode(pred_ids, skip_special_tokens=True)\n",
    "    labels_ids[labels_ids == -100] = tokenizer.pad_token_id\n",
    "    label_str = tokenizer.batch_decode(labels_ids, skip_special_tokens=True)\n",
    "    rouge_output = rouge.compute(\n",
    "        predictions=pred_str, references=label_str, rouge_types=[\"rouge2\"]\n",
    "    )[\"rouge2\"].mid\n",
    "    return {\n",
    "        \"rouge2_precision\": round(rouge_output.precision, 4),\n",
    "        \"rouge2_recall\": round(rouge_output.recall, 4),\n",
    "        \"rouge2_fmeasure\": round(rouge_output.fmeasure, 4),\n",
    "    }"
   ]
  },
  {
   "cell_type": "code",
   "execution_count": 19,
   "id": "fb50abaa",
   "metadata": {},
   "outputs": [],
   "source": [
    "training_args = Seq2SeqTrainingArguments(\n",
    "    predict_with_generate=True,\n",
    "    evaluation_strategy=\"steps\",\n",
    "    per_device_train_batch_size=batch_size,\n",
    "    per_device_eval_batch_size=batch_size,\n",
    "    fp16=True,\n",
    "    output_dir=\"C:/Users/yaroslav/Desktop/LED_running\",\n",
    "    logging_steps=5,\n",
    "    eval_steps=10,\n",
    "    save_steps=10,\n",
    "    save_total_limit=2,\n",
    "    gradient_accumulation_steps=4,\n",
    "    num_train_epochs=1,\n",
    ")"
   ]
  },
  {
   "cell_type": "code",
   "execution_count": 20,
   "id": "a180d1b4",
   "metadata": {},
   "outputs": [],
   "source": [
    "trainer = Seq2SeqTrainer(\n",
    "    model=led,\n",
    "    tokenizer=tokenizer,\n",
    "    args=training_args,\n",
    "    compute_metrics=compute_metrics,\n",
    "    train_dataset=train_dataset,\n",
    "    eval_dataset=val_dataset,\n",
    ")"
   ]
  },
  {
   "cell_type": "code",
   "execution_count": null,
   "id": "afe7ddc6",
   "metadata": {},
   "outputs": [],
   "source": [
    "trainer.train()"
   ]
  },
  {
   "cell_type": "code",
   "execution_count": 2,
   "id": "04a137b3",
   "metadata": {},
   "outputs": [
    {
     "name": "stderr",
     "output_type": "stream",
     "text": [
      "C:\\Users\\yaroslav\\anaconda3\\envs\\newtorch\\Lib\\site-packages\\datasets\\load.py:2096: FutureWarning: 'ignore_verifications' was deprecated in favor of 'verification_mode' in version 2.9.1 and will be removed in 3.0.0.\n",
      "You can remove this warning by passing 'verification_mode=no_checks' instead.\n",
      "  warnings.warn(\n"
     ]
    }
   ],
   "source": [
    "pubmed_test = load_dataset(\"scientific_papers\", \"pubmed\", ignore_verifications=True, split=\"test\")"
   ]
  },
  {
   "cell_type": "code",
   "execution_count": 22,
   "id": "706c2191",
   "metadata": {},
   "outputs": [],
   "source": [
    "trainer.save_model(\"C:/Users/yaroslav/Desktop/LED-2\")"
   ]
  },
  {
   "cell_type": "code",
   "execution_count": 23,
   "id": "13d85d7e",
   "metadata": {},
   "outputs": [
    {
     "data": {
      "text/plain": [
       "('C:/Users/yaroslav/Desktop/Tokenizer-2\\\\tokenizer_config.json',\n",
       " 'C:/Users/yaroslav/Desktop/Tokenizer-2\\\\special_tokens_map.json',\n",
       " 'C:/Users/yaroslav/Desktop/Tokenizer-2\\\\vocab.json',\n",
       " 'C:/Users/yaroslav/Desktop/Tokenizer-2\\\\merges.txt',\n",
       " 'C:/Users/yaroslav/Desktop/Tokenizer-2\\\\added_tokens.json',\n",
       " 'C:/Users/yaroslav/Desktop/Tokenizer-2\\\\tokenizer.json')"
      ]
     },
     "execution_count": 23,
     "metadata": {},
     "output_type": "execute_result"
    }
   ],
   "source": [
    "tokenizer.save_pretrained(\"C:/Users/yaroslav/Desktop/Tokenizer-2\")"
   ]
  },
  {
   "cell_type": "code",
   "execution_count": 4,
   "id": "6d1c551a",
   "metadata": {},
   "outputs": [],
   "source": [
    "from transformers import AutoModelForSeq2SeqLM, AutoTokenizer"
   ]
  },
  {
   "cell_type": "code",
   "execution_count": 5,
   "id": "16e7a4d4",
   "metadata": {},
   "outputs": [],
   "source": [
    "model = AutoModelForSeq2SeqLM.from_pretrained(\"C:/Users/yaroslav/Desktop/LED-2\")\n",
    "tokenizer = AutoTokenizer.from_pretrained(\"C:/Users/yaroslav/Desktop/Tokenizer-2\")"
   ]
  },
  {
   "cell_type": "code",
   "execution_count": 6,
   "id": "fd91d80f",
   "metadata": {},
   "outputs": [],
   "source": [
    "device = torch.device(\"cuda\" if torch.cuda.is_available() else \"cpu\")"
   ]
  },
  {
   "cell_type": "code",
   "execution_count": 7,
   "id": "4bf76e83",
   "metadata": {},
   "outputs": [
    {
     "name": "stderr",
     "output_type": "stream",
     "text": [
      "Map: 100%|██████████| 12/12 [1:10:57<00:00, 354.76s/ examples]\n",
      "C:\\Users\\yaroslav\\AppData\\Local\\Temp\\ipykernel_11848\\2864481810.py:14: FutureWarning: load_metric is deprecated and will be removed in the next major version of datasets. Use 'evaluate.load' instead, from the new library 🤗 Evaluate: https://huggingface.co/docs/evaluate\n",
      "  rouge = load_metric(\"rouge\")\n"
     ]
    },
    {
     "name": "stdout",
     "output_type": "stream",
     "text": [
      "Result: Score(precision=0.23738993339730624, recall=0.10781269748867248, fmeasure=0.138551280228829)\n"
     ]
    }
   ],
   "source": [
    "def generate_answer(batch):\n",
    "    inputs_dict = tokenizer(batch[\"article\"], padding=\"max_length\", max_length=8192, return_tensors=\"pt\", truncation=True)\n",
    "    input_ids = inputs_dict.input_ids\n",
    "    attention_mask = inputs_dict.attention_mask\n",
    "    global_attention_mask = torch.zeros_like(attention_mask)\n",
    "    global_attention_mask[:, 0] = 1\n",
    "\n",
    "    predicted_abstract_ids = model.generate(input_ids, attention_mask=attention_mask, global_attention_mask=global_attention_mask)\n",
    "    batch[\"predicted_abstract\"] = tokenizer.batch_decode(predicted_abstract_ids, skip_special_tokens=True)\n",
    "    return batch\n",
    "\n",
    "dataset = Dataset.from_dict(pubmed_test[:12])\n",
    "result = dataset.map(generate_answer, batched=True, batch_size=4)\n",
    "rouge = load_metric(\"rouge\")\n",
    "print(\"Result:\", rouge.compute(predictions=result[\"predicted_abstract\"], references=result[\"abstract\"], rouge_types=[\"rouge2\"])[\"rouge2\"].mid)"
   ]
  },
  {
   "cell_type": "code",
   "execution_count": 17,
   "id": "03766d40",
   "metadata": {},
   "outputs": [
    {
     "name": "stdout",
     "output_type": "stream",
     "text": [
      " in this study, we evaluated the efficacy and safety of pigtail catheter drainage in the management of severe ohss in patients who underwent in vitro fertilization and embryo transfer at our centre between 1999 and 2001 on both inpatient and outpatient basis. \n",
      " we present a retrospective study of 33 patients with severe oss who underwent IVF treatment and were admitted to the hospital for treatment  ( rizk and aboulghar, 2002 ). \u0013 the majority of the patients were managed on an outpatient basis with the use of pigtails catheter.  \n",
      "=======================================================\n",
      "  objective : to evaluate the efficacy and safety of outpatient management of severe ovarian hyperstimulation syndrome  ( ohss ) requiring placement of a pigtail catheter.methods : retrospective analysis of thirty - three consecutive patients who underwent in - vitro fertilization  ( 2003 - 2009 ) and developed severe / critical ohss requiring placement of a pigtail catheter . \n",
      " patients who were managed on outpatient basis were monitored by frequent office visits , daily phone calls , and received iv normal saline for hydration when required.results : in 3 patients  ( 9.1% ) ohss started early , requiring placement of a pigtail catheter 4.3 + 0.6 days after retrieval . in 30 patients  ( 90.9% ) \n",
      " ohss started late  ( 14  4 days after retrieval ) . \n",
      " the mean amount of ascitic fluid drained immediately after placement of the catheter was 2085  1018 cc . \n",
      " the pigtail catheter was removed after 7.8  5.3 days . \n",
      " of the 31 patients who had embryo transfer  ( two had total freeze ) , 84% conceived . \n",
      " twenty - nine patients  ( 88% ) were managed on outpatient basis without any complications . \n",
      " four patients required hospital admission for 1 - 7 days  ( 3.0  2.7 ) . \n",
      " one patient with severe ohss was admitted for work up for chest pain . \n",
      " three patients with critical ohss with severe pleural effusion requiring thoracentesis were admitted for supportive measures.conclusion : the placement of a pigtail catheter resulted in safe and effective outpatient management for the majority of patients with severe ohss . \n"
     ]
    }
   ],
   "source": [
    "print(result[\"predicted_abstract\"][2],'\\n=======================================================\\n', result[\"abstract\"][2])"
   ]
  },
  {
   "cell_type": "markdown",
   "id": "b59292eb",
   "metadata": {},
   "source": [
    "### Translation of summarized text: в этом исследовании мы оценили эффективность и безопасность дренирования с помощью катетера в виде косички при лечении тяжелого СГЯ у пациентов, перенесших экстракорпоральное оплодотворение и перенос эмбрионов в нашем центре в период с 1999 по 2001 год как стационарно, так и амбулаторно. мы представляем ретроспективное исследование 33 пациенток с тяжелым течением СОС, которые прошли курс ЭКО и были госпитализированы для лечения (rizk and aboulghar, 2002).   большинство пациентов лечились амбулаторно с использованием катетера \"косички\".\n"
   ]
  },
  {
   "cell_type": "code",
   "execution_count": 18,
   "id": "9bb0800b",
   "metadata": {},
   "outputs": [
    {
     "name": "stdout",
     "output_type": "stream",
     "text": [
      " \n",
      " the present study was conducted at a tertiary care university hospital in brazil, brazil. \n",
      " a total of 142 patients were studied, and the results were qualitatively and quantitatively different from those obtained by bachert et al. \u0013 the mean serum levels of staphylococcal toxin - specific ige antibodies in patients with severe asthma were significantly higher than those obtained in the msa group. � the results of the study were as follows : \n",
      " \n",
      " serum levels were higher in the two groups of patients than in the ma group, and mean levels were significantly lower in the other. consecutive patients were divided into two groups according to the clinical severity of asthma.  \n",
      "=======================================================\n",
      "  abstractobjective : to determine the presence of staphylococcal superantigen - specific ige antibodies and degree of ige - mediated sensitization , as well as whether or not those are associated with the severity of asthma in adult patients . \n",
      " methods : this was a cross - sectional study involving outpatients with asthma under treatment at a tertiary care university hospital in the city of rio de janeiro , brazil . \n",
      " consecutive patients were divided into two groups according to the severity of asthma based on the global initiative for asthma criteria : mild asthma ( ma ) , comprising patients with mild intermittent or persistent asthma ; and moderate or severe asthma ( msa ) . \n",
      " we determined the serum levels of staphylococcal toxin - specific ige antibodies , comparing the results and performing a statistical analysis . \n",
      " results : the study included 142 patients : 72 in the ma group ( median age = 46 years ; 59 females ) and 70 in the msa group ( median age = 56 years ; 60 females ) . in the sample as a whole , 62 patients ( 43.7% ) presented positive results for staphylococcal toxin - specific ige antibodies : staphylococcal enterotoxin a ( sea ) , in 29 ( 20.4% ) ; seb , in 35 ( 24.6% ) ; sec , in 33 ( 23.2% ) ; and toxic shock syndrome toxin ( tsst ) , in 45 ( 31.7% ) . \n",
      " the mean serum levels of ige antibodies to sea , seb , sec , and tsst were 0.96 u / l , 1.09 u / l , 1.21 u / l , and 1.18 u / l , respectively . \n",
      " there were no statistically significant differences between the two groups in terms of the qualitative or quantitative results . \n",
      " conclusions : serum ige antibodies to sea , seb , sec , and tsst were detected in 43.7% of the patients in our sample . \n",
      " however , neither the qualitative nor quantitative results showed a statistically significant association with the clinical severity of asthma . \n"
     ]
    }
   ],
   "source": [
    "print(result[\"predicted_abstract\"][5],'\\n=======================================================\\n', result[\"abstract\"][5])"
   ]
  },
  {
   "cell_type": "markdown",
   "id": "e134f83d",
   "metadata": {},
   "source": [
    "### Translation of summarized text: настоящее исследование было проведено в университетской больнице третичного звена в Бразилии, Бразилия. всего было обследовано 142 пациента, и результаты качественно и количественно отличались от результатов, полученных Бахертом и соавт.   Cредние сывороточные уровни антител ige, специфичных к стафилококковому токсину, у пациентов с тяжелой бронхиальной астмой были значительно выше, чем в группе msa.  Результаты исследования были следующими : уровни в сыворотке крови были выше в двух группах пациентов, чем в группе ма, а средние уровни были значительно ниже в другой. последовательные пациенты были разделены на две группы в соответствии с клинической тяжестью бронхиальной астмы."
   ]
  },
  {
   "cell_type": "code",
   "execution_count": 19,
   "id": "d8caa29b",
   "metadata": {},
   "outputs": [
    {
     "name": "stdout",
     "output_type": "stream",
     "text": [
      " \n",
      " the study was performed in the second and the third days of hospitalization of the patients in the neurosurgery intensive care unit of al - zahra hospital. \n",
      "the findings of this study could be a basis for performing further studies about family needs of the patient in the icu especially with the different forms of culture and economy. consequently, the increase in family satisfaction of patients can reduce the stress disorders and improve their mental state and ultimately better support of the client by the family.  \n",
      "=======================================================\n",
      "  background : since the family is a social system , the impairment in each of its component members may disrupt the entire family system . \n",
      " one of the stress sources for families is accidents leading to hospitalization particularly in the intensive care unit ( icu ) . in many cases , \n",
      " the families needs in patient care are not met that cause dissatisfaction . since the nurses spend a lot of time with patients and their families , they are in a good position to assess their needs and perform appropriate interventions . \n",
      " therefore , this study was conducted to determine the effectiveness of nursing interventions based on family needs on family satisfaction level of hospitalized patients in the neurosurgery icu.materials and methods : this clinical trial was conducted in the neurosurgery icu of al - zahra hospital , isfahan , iran in 2010 . \n",
      " sixty four families were selected by simple sampling method and were randomly placed in two groups ( test and control ) using envelopes . in the test group , \n",
      " some interventions were performed to meet their needs . in the control group , \n",
      " the routine actions were only carried out . \n",
      " the satisfaction questionnaire was completed by both groups two days after admission and again on the fourth day.findings:both of the intervention and control groups were compared in terms of the mean satisfaction scores before and after intervention . \n",
      " there was no significant difference in mean satisfaction scores between test and control groups before the intervention . \n",
      " the mean satisfaction score significantly increased after the intervention compared to the control group.conclusions:nursing interventions based on family needs of hospitalized patients in the icu increase their satisfaction . \n",
      " attention to family nursing should be planned especially in the icus . \n"
     ]
    }
   ],
   "source": [
    "print(result[\"predicted_abstract\"][6],'\\n=======================================================\\n', result[\"abstract\"][6])"
   ]
  },
  {
   "cell_type": "markdown",
   "id": "0b7dce31",
   "metadata": {},
   "source": [
    "### Translation of summarized text: исследование проводилось на второй и третий дни госпитализации пациентов в отделение интенсивной терапии нейрохирургии больницы аль-Захра. Результаты этого исследования могли бы стать основой для проведения дальнейших исследований потребностей семьи пациента в отделении интенсивной терапии, особенно с учетом различных форм культуры и экономики. Следовательно, повышение удовлетворенности пациентов семьей может уменьшить стрессовые расстройства и улучшить их психическое состояние и, в конечном счете, улучшить поддержку клиента семьей."
   ]
  },
  {
   "cell_type": "code",
   "execution_count": 20,
   "id": "d97dc013",
   "metadata": {},
   "outputs": [
    {
     "name": "stdout",
     "output_type": "stream",
     "text": [
      " communication skills for health team can improve the quality of life of patients with coronary artery bypass surgery. \n",
      " this study investigates the role of communication skills in reducing hospital anxiety and depression in patients with cardiovascular disease. \u0013 in this study, we examined the interaction between the patient and the medical team. in the intervention group, we used a self - control researcher - made tool approved by experts. in addition, we analyzed the mean anxiety scores of patients in the control group and the mean depression scores of the intervention groups.  \n",
      "=======================================================\n",
      "  background and objective :   anxiety and depression are among the psychological disorders in heart \n",
      " surgeries . establishing a simple communication is essential to reduce anxiety and depression . \n",
      " hence , the objective of the present studywas to examine the impact of peplau therapeutic communication model on anxiety and depression in patients , who were candidate for coronary artery bypass in al - zahra heart hospital , shiraz during 2012 - 2013 . \n",
      " \n",
      " methods :   this is a clinical trial in which 74 patients were randomly divided into intervention and control groups , each consisted of 37 patients . anxiety and depression levels were assessed before , and two and four months after intervention using the hospital anxiety and depression scale ( hads ) . \n",
      " seven therapeutic communication sessions were held in four stages . \n",
      " data were analyzed with the spss ( version 16 ) using analysis of covariance . \n",
      " results :   the mean anxiety and depression levels decreased in the intervention group after the therapeutic communication ( p<0.01 ) . \n",
      " anxiety scores in the intervention group before and after intervention were 10.23 and 9.38 , respectively . while the corresponding scores in the control group were 10.26 and 11.62 , respectively . \n",
      " depression scores in the intervention group before and after intervention were 11 and 9.13 , respectively . \n",
      " the corresponding scores in the control group were 11.30 and 12.08 , respectively . \n",
      " conclusion :   the results demonstrated the positive role of therapeutic communication in reducing anxiety and depression of the patients . \n",
      " therefore , the therapeutic communication is recommended as a simple , cost effective and efficient method in this area . \n",
      " \n"
     ]
    }
   ],
   "source": [
    "print(result[\"predicted_abstract\"][7],'\\n=======================================================\\n', result[\"abstract\"][7])"
   ]
  },
  {
   "cell_type": "markdown",
   "id": "3dbfc1b2",
   "metadata": {},
   "source": [
    "### Translation of summarized text: навыки общения для медицинской бригады могут улучшить качество жизни пациентов после операции аортокоронарного шунтирования. В этом исследовании исследуется роль навыков общения в снижении больничной тревожности и депрессии у пациентов с сердечно-сосудистыми заболеваниями.  В этом исследовании мы изучили взаимодействие между пациентом и медицинской бригадой. в группе вмешательства мы использовали разработанный исследователями инструмент самоконтроля, одобренный экспертами. кроме того, мы проанализировали средние показатели тревожности пациентов в контрольной группе и средние показатели депрессии в группах вмешательства."
   ]
  },
  {
   "cell_type": "code",
   "execution_count": null,
   "id": "165d02de",
   "metadata": {},
   "outputs": [],
   "source": []
  }
 ],
 "metadata": {
  "kernelspec": {
   "display_name": "newtorch",
   "language": "python",
   "name": "newtorch"
  },
  "language_info": {
   "codemirror_mode": {
    "name": "ipython",
    "version": 3
   },
   "file_extension": ".py",
   "mimetype": "text/x-python",
   "name": "python",
   "nbconvert_exporter": "python",
   "pygments_lexer": "ipython3",
   "version": "3.11.5"
  }
 },
 "nbformat": 4,
 "nbformat_minor": 5
}
