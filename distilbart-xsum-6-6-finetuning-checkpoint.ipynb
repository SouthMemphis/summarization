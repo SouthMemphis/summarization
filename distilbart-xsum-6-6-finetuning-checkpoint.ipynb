{
 "cells": [
  {
   "cell_type": "code",
   "execution_count": 1,
   "id": "d02b7d84",
   "metadata": {},
   "outputs": [
    {
     "name": "stderr",
     "output_type": "stream",
     "text": [
      "C:\\Users\\yaroslav\\anaconda3\\envs\\torchenv\\Lib\\site-packages\\tqdm\\auto.py:21: TqdmWarning: IProgress not found. Please update jupyter and ipywidgets. See https://ipywidgets.readthedocs.io/en/stable/user_install.html\n",
      "  from .autonotebook import tqdm as notebook_tqdm\n"
     ]
    }
   ],
   "source": [
    "from tabulate import tabulate\n",
    "import nltk\n",
    "from datetime import datetime\n",
    "import torch\n",
    "import numpy as np\n",
    "import datasets\n",
    "from datasets import load_dataset\n",
    "import accelerate"
   ]
  },
  {
   "cell_type": "code",
   "execution_count": 2,
   "id": "465ed2ef",
   "metadata": {},
   "outputs": [],
   "source": [
    "device = torch.device('cuda' if torch.cuda.is_available() else 'cpu')"
   ]
  },
  {
   "cell_type": "code",
   "execution_count": 21,
   "id": "89f082c7",
   "metadata": {},
   "outputs": [
    {
     "data": {
      "text/plain": [
       "True"
      ]
     },
     "execution_count": 21,
     "metadata": {},
     "output_type": "execute_result"
    }
   ],
   "source": [
    "torch.cuda.is_available()"
   ]
  },
  {
   "cell_type": "code",
   "execution_count": 22,
   "id": "d4519ba3",
   "metadata": {},
   "outputs": [],
   "source": [
    "lang = 'english'"
   ]
  },
  {
   "cell_type": "code",
   "execution_count": 3,
   "id": "2caf6a16",
   "metadata": {},
   "outputs": [],
   "source": [
    "from transformers import (\n",
    "    AutoModelForSeq2SeqLM,\n",
    "    AutoTokenizer,\n",
    "    Seq2SeqTrainingArguments,\n",
    "    DataCollatorForSeq2Seq,\n",
    "    Seq2SeqTrainer\n",
    ")"
   ]
  },
  {
   "cell_type": "code",
   "execution_count": 24,
   "id": "0efe9b46",
   "metadata": {},
   "outputs": [],
   "source": [
    "model_name = \"sshleifer/distilbart-xsum-6-6\""
   ]
  },
  {
   "cell_type": "code",
   "execution_count": 25,
   "id": "0b5a771e",
   "metadata": {},
   "outputs": [],
   "source": [
    "model = AutoModelForSeq2SeqLM.from_pretrained(model_name)\n",
    "tokenizer = AutoTokenizer.from_pretrained(model_name)\n"
   ]
  },
  {
   "cell_type": "code",
   "execution_count": 26,
   "id": "a722c2db",
   "metadata": {},
   "outputs": [],
   "source": [
    "max_enxoder_length =1024\n",
    "max_decoder_length = 256\n"
   ]
  },
  {
   "cell_type": "code",
   "execution_count": 27,
   "id": "83faa8c8",
   "metadata": {},
   "outputs": [
    {
     "name": "stderr",
     "output_type": "stream",
     "text": [
      "Found cached dataset wiki_lingua (C:/Users/yaroslav/.cache/huggingface/datasets/wiki_lingua/english/1.1.1/6fdaa844abe35a3a2a79e5a1cf9e546f32ad234d59756bcf9cfeadff6c89240e)\n"
     ]
    }
   ],
   "source": [
    "data = load_dataset('wiki_lingua', name = lang, split = 'train[:2000]')"
   ]
  },
  {
   "cell_type": "code",
   "execution_count": 28,
   "id": "986b634a",
   "metadata": {},
   "outputs": [
    {
     "data": {
      "text/plain": [
       "Dataset({\n",
       "    features: ['url', 'article'],\n",
       "    num_rows: 2000\n",
       "})"
      ]
     },
     "execution_count": 28,
     "metadata": {},
     "output_type": "execute_result"
    }
   ],
   "source": [
    "data"
   ]
  },
  {
   "cell_type": "code",
   "execution_count": 29,
   "id": "e3219e4f",
   "metadata": {},
   "outputs": [
    {
     "data": {
      "text/plain": [
       "'https://www.wikihow.com/Avoid-Drinking-and-Driving'"
      ]
     },
     "execution_count": 29,
     "metadata": {},
     "output_type": "execute_result"
    }
   ],
   "source": [
    "data['url'][0]"
   ]
  },
  {
   "cell_type": "code",
   "execution_count": 30,
   "id": "2050c314",
   "metadata": {},
   "outputs": [
    {
     "data": {
      "text/plain": [
       "{'section_name': ['Finding Other Transportation',\n",
       "  'Designating a Driver',\n",
       "  'Staying Safe'],\n",
       " 'document': ['make sure that the area is a safe place, especially if you plan on walking home at night.  It’s always a good idea to practice the buddy system.  Have a friend meet up and walk with you. Research the bus, train, or streetcar routes available in your area to find safe and affordable travel to your destination.  Make sure you check the schedule for your outgoing and return travel.  Some public transportation will cease to run late at night.  Be sure if you take public transportation to the venue that you will also be able to get home late at night. Check the routes.  Even if some public transit is still running late at night, the routing may change.  Some may run express past many of the stops, or not travel all the way to the ends.  Be sure that your stop will still be available when you need it for your return trip. If you are taking public transit in a vulnerable state after drinking, it is always a good idea to travel in groups.  Having friends available is a good way to stay safe and make sure that you reach your destination. This is more expensive option than a taxi or ride share service, but could be a fun and fancy way to stay safe and ensure that you will have a ride home. Plan this service in advance with a scheduled time to pick you up from your home and the venue.  You want to be sure that the service will still be available when you need to get home. This may be easy in a large city, but taxis may be less frequent in smaller towns.  This is especially true late at night, so this is a less reliable option than scheduling a ride in advance.  Have a friend accompany you and help you flag a cab to make sure you are able to get one. Set up a plan to call a friend when you get home to make sure that you made it safely to your destination. If there are no taxis readily available call a local service to send a car to pick you up. You can share a ride with your friends, or other people using the app at the same moment.  If you are in a vulnerable state it is best to share the ride with your friends to make sure you get home safe. You can request the car to yourself rather than sharing rides with strangers. If you travel home on your own or are the last of your group to be dropped off, make plans to call a friend when you get home so they know you made it safely to your destination. There may be a designated driver service in your area which can chauffeur your group.  Make reservations with them in advance and keep their contact information handy while you are drinking.',\n",
       "  \"Designating a driver is a very popular tactic to avoid drinking and driving.  It is important to plan in advance, because your brain function will slow down and your decision making skills will be impaired once you start drinking. Decide before you begin drinking that you will not drive.  Figure out who will be getting you home before you leave. Make sure this person is responsible and keep them in your sight while you are drinking.  Have their contact information handy in case you can’t find them when you are ready to leave.  Choose a friend who doesn’t drink alcohol.  You likely have someone in your friend group who doesn’t drink.  This person is the most likely to remain sober. Decide on one person who will remain sober.  You can take turns within your friend group, alternating who will be the designated driver on each occasion.  Be sure that the designated driver actually remains sober.  The person who has drank the least is still not sober. If you don’t have your car with you, you can guarantee that you won’t make the choice to drive it home. If you are drinking at your home.  Give your keys to a responsible friend to ensure that you don't choose to drive somewhere after you have been drinking. It may be tempting to stay longer or leave with someone else.  Stick to the plan you made in advance and only leave with your sober, designated driver.  Keep the phone number of your driver handy in case you can't find them when you are ready to leave. If your designated driver drinks alcohol, find alternate transportation to get home.\",\n",
       "  'If you have been drinking at all you are at least on the spectrum of drunkenness.  You could be showing signs of impairment and slower brain function including lack of motor skills and slower reaction time, leading to the inability to operate a motor vehicle.  Some of these signs could be:  Poor balance or stumbling.  Difficulty speaking clearly and slurred words.  Abnormal behavior leading to you doing things you wouldn’t normally do if you were sober. As soon as you notice that you are showing signs of impairment, give your keys to a friend, the host or the bartender to ensure that you won’t drive until you are sober.  Make sure to only give them your car key.  Hold onto your house keys. If your friend, the host or the bartender are advising you not to drive, you are likely too drunk.  Listen to their advice and acknowledge that they are trying to help you. Bystander intervention is common when it comes to drinking and driving.  Many people will be willing to step in, take your keys and help you get home safely.  If no one if offering to help, you may need to ask.  Take a ride from a sober friend.  It is best to get in a car with someone you trust when you are in this vulnerable state. Allow the host or bartender to call a cab or car service to take you home. If you are having a difficult time finding a safe way to get home, find a place to stay which does not involve you driving.  Ask the host of the party if there is a place you can sleep.  Give them your keys and ask that they keep them in a safe place until the morning. Stay with a friend if they live nearby and are on their way home. Find a hotel within walking distance.  Call them to book a room, or have a friend help you secure one.  Ask the friend if they will walk you to the hotel and make sure you get checked in safely. There are people in your life who care about you and want to be sure that you are safe.  It may seem scary or embarrassing to call your parents or your siblings if you are too drunk to drive, but they will be glad you did.  Your safety is the most important. You may need your phone to call someone for a ride or get help from a friend.  Be sure to charge your phone before you leave the house.  It is also a good idea to bring a charger with you in case your battery dies before the end of the night or you end up staying where you are and need to get home the next morning. You may also want to invest in a portable battery charger for your phone should there not be a power outlet available.  Make sure it is fully charged before you leave your house.  Keep it handy in your pocket or your bag throughout the night.'],\n",
       " 'summary': ['Walk to the venue where you will be drinking if it is close enough. Take public transit. Show up in style by hiring a limo or black car service. Flag a taxi cab for a convenient option to get where you’re going. Request a rideshare service like Uber or Lyft using an app on your phone. Reserve a designated driver service.',\n",
       "  'Plan in advance. Assign a designated driver. Leave your car at home. Leave the venue with your designated driver.',\n",
       "  'Pay attention to your body. Give up your keys. Listen to other people. Accept help. Stay where you are. Have an emergency back-up plan. Make sure that your phone is charged.']}"
      ]
     },
     "execution_count": 30,
     "metadata": {},
     "output_type": "execute_result"
    }
   ],
   "source": [
    "data['article'][0]"
   ]
  },
  {
   "cell_type": "code",
   "execution_count": 31,
   "id": "f16ba03e",
   "metadata": {},
   "outputs": [],
   "source": [
    "def preprocess_corpus(corpus) -> dict:\n",
    "    return {\"document\": corpus[\"article\"][\"document\"],\n",
    "        \"summary\": corpus[\"article\"][\"summary\"]}"
   ]
  },
  {
   "cell_type": "code",
   "execution_count": 32,
   "id": "62c43bba",
   "metadata": {},
   "outputs": [
    {
     "name": "stderr",
     "output_type": "stream",
     "text": [
      "Loading cached processed dataset at C:\\Users\\yaroslav\\.cache\\huggingface\\datasets\\wiki_lingua\\english\\1.1.1\\6fdaa844abe35a3a2a79e5a1cf9e546f32ad234d59756bcf9cfeadff6c89240e\\cache-874ab2fc9f5c9bca.arrow\n"
     ]
    }
   ],
   "source": [
    "dataset = data.map(preprocess_corpus, remove_columns=['article', 'url'])"
   ]
  },
  {
   "cell_type": "code",
   "execution_count": 33,
   "id": "71d33abd",
   "metadata": {},
   "outputs": [
    {
     "data": {
      "text/plain": [
       "True"
      ]
     },
     "execution_count": 33,
     "metadata": {},
     "output_type": "execute_result"
    }
   ],
   "source": [
    "torch.cuda.is_available()"
   ]
  },
  {
   "cell_type": "code",
   "execution_count": 34,
   "id": "fc10ad14",
   "metadata": {},
   "outputs": [
    {
     "data": {
      "text/plain": [
       "0"
      ]
     },
     "execution_count": 34,
     "metadata": {},
     "output_type": "execute_result"
    }
   ],
   "source": [
    "torch.cuda.current_device()"
   ]
  },
  {
   "cell_type": "code",
   "execution_count": 35,
   "id": "4934870d",
   "metadata": {},
   "outputs": [
    {
     "data": {
      "text/plain": [
       "'NVIDIA GeForce RTX 3060 Laptop GPU'"
      ]
     },
     "execution_count": 35,
     "metadata": {},
     "output_type": "execute_result"
    }
   ],
   "source": [
    "torch.cuda.get_device_name(0)"
   ]
  },
  {
   "cell_type": "code",
   "execution_count": 36,
   "id": "64dcb36e",
   "metadata": {},
   "outputs": [
    {
     "data": {
      "text/plain": [
       "Dataset({\n",
       "    features: ['document', 'summary'],\n",
       "    num_rows: 2000\n",
       "})"
      ]
     },
     "execution_count": 36,
     "metadata": {},
     "output_type": "execute_result"
    }
   ],
   "source": [
    "dataset"
   ]
  },
  {
   "cell_type": "code",
   "execution_count": 37,
   "id": "fcf1ef97",
   "metadata": {},
   "outputs": [
    {
     "data": {
      "text/plain": [
       "['Walk to the venue where you will be drinking if it is close enough. Take public transit. Show up in style by hiring a limo or black car service. Flag a taxi cab for a convenient option to get where you’re going. Request a rideshare service like Uber or Lyft using an app on your phone. Reserve a designated driver service.',\n",
       " 'Plan in advance. Assign a designated driver. Leave your car at home. Leave the venue with your designated driver.',\n",
       " 'Pay attention to your body. Give up your keys. Listen to other people. Accept help. Stay where you are. Have an emergency back-up plan. Make sure that your phone is charged.']"
      ]
     },
     "execution_count": 37,
     "metadata": {},
     "output_type": "execute_result"
    }
   ],
   "source": [
    "dataset['summary'][0]"
   ]
  },
  {
   "cell_type": "code",
   "execution_count": 38,
   "id": "a785c541",
   "metadata": {},
   "outputs": [],
   "source": [
    "def list2samples(example):\n",
    "    documents = []\n",
    "    summaries = []\n",
    "    for sample in zip(example[\"document\"], example[\"summary\"]):\n",
    "        if len(sample[0]) > 0:\n",
    "            documents += sample[0]\n",
    "            summaries += sample[1]\n",
    "    return {\"document\": documents, \"summary\": summaries}"
   ]
  },
  {
   "cell_type": "code",
   "execution_count": 39,
   "id": "bd082bd1",
   "metadata": {},
   "outputs": [
    {
     "name": "stderr",
     "output_type": "stream",
     "text": [
      "Loading cached processed dataset at C:\\Users\\yaroslav\\.cache\\huggingface\\datasets\\wiki_lingua\\english\\1.1.1\\6fdaa844abe35a3a2a79e5a1cf9e546f32ad234d59756bcf9cfeadff6c89240e\\cache-97845262552237d9.arrow\n"
     ]
    }
   ],
   "source": [
    "dataset = dataset.map(list2samples, batched=True)"
   ]
  },
  {
   "cell_type": "code",
   "execution_count": 40,
   "id": "95b9c906",
   "metadata": {},
   "outputs": [],
   "source": [
    "train_data_txt, validation_data_txt = dataset.train_test_split(test_size=0.1).values()"
   ]
  },
  {
   "cell_type": "code",
   "execution_count": 41,
   "id": "464e2e0e",
   "metadata": {},
   "outputs": [
    {
     "data": {
      "text/plain": [
       "(Dataset({\n",
       "     features: ['document', 'summary'],\n",
       "     num_rows: 4351\n",
       " }),\n",
       " Dataset({\n",
       "     features: ['document', 'summary'],\n",
       "     num_rows: 484\n",
       " }))"
      ]
     },
     "execution_count": 41,
     "metadata": {},
     "output_type": "execute_result"
    }
   ],
   "source": [
    "train_data_txt, validation_data_txt"
   ]
  },
  {
   "cell_type": "code",
   "execution_count": 42,
   "id": "dab9b613",
   "metadata": {},
   "outputs": [],
   "source": [
    "def batch_tokenize_preprocess(batch, tokenizer, max_source_length, max_target_length):\n",
    "    source, target = batch[\"document\"], batch[\"summary\"]\n",
    "    source_tokenized = tokenizer(source, padding=\"max_length\", truncation=True, max_length=max_source_length)\n",
    "    target_tokenized = tokenizer(target, padding=\"max_length\", truncation=True, max_length=max_target_length)\n",
    "    batch = {k: v for k, v in source_tokenized.items()}\n",
    "    batch[\"labels\"] = [\n",
    "        [-100 if token == tokenizer.pad_token_id else token for token in l]\n",
    "        for l in target_tokenized[\"input_ids\"]\n",
    "    ]\n",
    "    return batch"
   ]
  },
  {
   "cell_type": "code",
   "execution_count": 43,
   "id": "c737e5ab",
   "metadata": {},
   "outputs": [
    {
     "name": "stderr",
     "output_type": "stream",
     "text": [
      "                                                                \r"
     ]
    }
   ],
   "source": [
    "train_data = train_data_txt.map(\n",
    "    lambda batch: batch_tokenize_preprocess(\n",
    "        batch, tokenizer, max_enxoder_length, max_decoder_length\n",
    "    ),\n",
    "    batched=True,\n",
    "    remove_columns=train_data_txt.column_names,\n",
    ")\n",
    "\n",
    "validation_data = validation_data_txt.map(\n",
    "    lambda batch: batch_tokenize_preprocess(\n",
    "         batch, tokenizer, max_enxoder_length, max_decoder_length\n",
    "    ),\n",
    "    batched=True,\n",
    "    remove_columns=validation_data_txt.column_names,\n",
    ")"
   ]
  },
  {
   "cell_type": "code",
   "execution_count": 44,
   "id": "846748fb",
   "metadata": {},
   "outputs": [
    {
     "name": "stderr",
     "output_type": "stream",
     "text": [
      "C:\\Users\\yaroslav\\AppData\\Local\\Temp\\ipykernel_3836\\1250854224.py:3: FutureWarning: load_metric is deprecated and will be removed in the next major version of datasets. Use 'evaluate.load' instead, from the new library 🤗 Evaluate: https://huggingface.co/docs/evaluate\n",
      "  metric = datasets.load_metric(\"rouge\")\n"
     ]
    }
   ],
   "source": [
    "nltk.download(\"punkt\", quiet=True)\n",
    "metric = datasets.load_metric(\"rouge\")"
   ]
  },
  {
   "cell_type": "code",
   "execution_count": 45,
   "id": "e57d2767",
   "metadata": {},
   "outputs": [],
   "source": [
    "def postprocess_text(preds, labels):\n",
    "    preds = [pred.strip() for pred in preds]\n",
    "    labels = [label.strip() for label in labels]\n",
    "    preds = [\"\\n\".join(nltk.sent_tokenize(pred)) for pred in preds]\n",
    "    labels = [\"\\n\".join(nltk.sent_tokenize(label)) for label in labels]\n",
    "\n",
    "    return preds, labels"
   ]
  },
  {
   "cell_type": "code",
   "execution_count": 46,
   "id": "d3c59e5b",
   "metadata": {},
   "outputs": [],
   "source": [
    "def compute_metrics(eval_preds):\n",
    "    preds, labels = eval_preds\n",
    "    if isinstance(preds, tuple):\n",
    "        preds = preds[0]\n",
    "    decoded_preds = tokenizer.batch_decode(preds, skip_special_tokens=True)\n",
    "    labels = np.where(labels != -100, labels, tokenizer.pad_token_id)\n",
    "    decoded_labels = tokenizer.batch_decode(labels, skip_special_tokens=True)\n",
    "    decoded_preds, decoded_labels = postprocess_text(decoded_preds, decoded_labels)\n",
    "\n",
    "    result = metric.compute(\n",
    "        predictions=decoded_preds, references=decoded_labels, use_stemmer=True\n",
    "    )\n",
    "    result = {key: value.mid.fmeasure * 100 for key, value in result.items()}\n",
    "\n",
    "    prediction_lens = [\n",
    "        np.count_nonzero(pred != tokenizer.pad_token_id) for pred in preds\n",
    "    ]\n",
    "    result[\"gen_len\"] = np.mean(prediction_lens)\n",
    "    result = {k: round(v, 4) for k, v in result.items()}\n",
    "    return result"
   ]
  },
  {
   "cell_type": "code",
   "execution_count": 47,
   "id": "20be862b",
   "metadata": {},
   "outputs": [],
   "source": [
    "training_args = Seq2SeqTrainingArguments(\n",
    "    output_dir =\"results\" ,\n",
    "    num_train_epochs=1,\n",
    "    do_train=True,\n",
    "    do_eval=True,\n",
    "    per_device_train_batch_size=4, \n",
    "    per_device_eval_batch_size=4,\n",
    "    warmup_steps=500,\n",
    "    weight_decay=0.1,\n",
    "    label_smoothing_factor=0.1,\n",
    "    predict_with_generate=True,\n",
    "    logging_dir=\"logs\",\n",
    "    logging_steps=50,\n",
    "    save_total_limit=3,\n",
    ")\n",
    "\n",
    "data_collator = DataCollatorForSeq2Seq(tokenizer, model=model)\n",
    "\n",
    "trainer = Seq2SeqTrainer(\n",
    "    model=model,\n",
    "    args=training_args,\n",
    "    data_collator=data_collator,\n",
    "    train_dataset=train_data,\n",
    "    eval_dataset=validation_data,\n",
    "    tokenizer=tokenizer,\n",
    "    compute_metrics=compute_metrics,\n",
    ")"
   ]
  },
  {
   "cell_type": "code",
   "execution_count": 48,
   "id": "7c400908",
   "metadata": {},
   "outputs": [
    {
     "name": "stderr",
     "output_type": "stream",
     "text": [
      "You're using a BartTokenizerFast tokenizer. Please note that with a fast tokenizer, using the `__call__` method is faster than using a method to encode the text followed by a call to the `pad` method to get a padded encoding.\n"
     ]
    },
    {
     "data": {
      "text/html": [
       "\n",
       "    <div>\n",
       "      \n",
       "      <progress value='1088' max='1088' style='width:300px; height:20px; vertical-align: middle;'></progress>\n",
       "      [1088/1088 2:37:17, Epoch 1/1]\n",
       "    </div>\n",
       "    <table border=\"1\" class=\"dataframe\">\n",
       "  <thead>\n",
       " <tr style=\"text-align: left;\">\n",
       "      <th>Step</th>\n",
       "      <th>Training Loss</th>\n",
       "    </tr>\n",
       "  </thead>\n",
       "  <tbody>\n",
       "    <tr>\n",
       "      <td>50</td>\n",
       "      <td>5.746600</td>\n",
       "    </tr>\n",
       "    <tr>\n",
       "      <td>100</td>\n",
       "      <td>4.626000</td>\n",
       "    </tr>\n",
       "    <tr>\n",
       "      <td>150</td>\n",
       "      <td>4.295300</td>\n",
       "    </tr>\n",
       "    <tr>\n",
       "      <td>200</td>\n",
       "      <td>4.241400</td>\n",
       "    </tr>\n",
       "    <tr>\n",
       "      <td>250</td>\n",
       "      <td>4.043700</td>\n",
       "    </tr>\n",
       "    <tr>\n",
       "      <td>300</td>\n",
       "      <td>4.095000</td>\n",
       "    </tr>\n",
       "    <tr>\n",
       "      <td>350</td>\n",
       "      <td>4.059300</td>\n",
       "    </tr>\n",
       "    <tr>\n",
       "      <td>400</td>\n",
       "      <td>4.010500</td>\n",
       "    </tr>\n",
       "    <tr>\n",
       "      <td>450</td>\n",
       "      <td>3.990700</td>\n",
       "    </tr>\n",
       "    <tr>\n",
       "      <td>500</td>\n",
       "      <td>4.048800</td>\n",
       "    </tr>\n",
       "    <tr>\n",
       "      <td>550</td>\n",
       "      <td>3.982800</td>\n",
       "    </tr>\n",
       "    <tr>\n",
       "      <td>600</td>\n",
       "      <td>3.918900</td>\n",
       "    </tr>\n",
       "    <tr>\n",
       "      <td>650</td>\n",
       "      <td>3.953700</td>\n",
       "    </tr>\n",
       "    <tr>\n",
       "      <td>700</td>\n",
       "      <td>3.839600</td>\n",
       "    </tr>\n",
       "    <tr>\n",
       "      <td>750</td>\n",
       "      <td>3.836300</td>\n",
       "    </tr>\n",
       "    <tr>\n",
       "      <td>800</td>\n",
       "      <td>3.818200</td>\n",
       "    </tr>\n",
       "    <tr>\n",
       "      <td>850</td>\n",
       "      <td>3.840000</td>\n",
       "    </tr>\n",
       "    <tr>\n",
       "      <td>900</td>\n",
       "      <td>3.831000</td>\n",
       "    </tr>\n",
       "    <tr>\n",
       "      <td>950</td>\n",
       "      <td>3.796000</td>\n",
       "    </tr>\n",
       "    <tr>\n",
       "      <td>1000</td>\n",
       "      <td>3.797300</td>\n",
       "    </tr>\n",
       "    <tr>\n",
       "      <td>1050</td>\n",
       "      <td>3.685000</td>\n",
       "    </tr>\n",
       "  </tbody>\n",
       "</table><p>"
      ],
      "text/plain": [
       "<IPython.core.display.HTML object>"
      ]
     },
     "metadata": {},
     "output_type": "display_data"
    },
    {
     "data": {
      "text/plain": [
       "TrainOutput(global_step=1088, training_loss=4.059148788452148, metrics={'train_runtime': 9442.0973, 'train_samples_per_second': 0.461, 'train_steps_per_second': 0.115, 'total_flos': 4714590810144768.0, 'train_loss': 4.059148788452148, 'epoch': 1.0})"
      ]
     },
     "execution_count": 48,
     "metadata": {},
     "output_type": "execute_result"
    }
   ],
   "source": [
    "trainer.train()"
   ]
  },
  {
   "cell_type": "markdown",
   "id": "9fd0f84f",
   "metadata": {},
   "source": [
    "### TrainOutput(global_step=1088, training_loss=4.116244386224186, metrics={'train_runtime': 18348.2797, 'train_samples_per_second': 0.237, 'train_steps_per_second': 0.059, 'total_flos': 2357295405072384.0, 'train_loss': 4.116244386224186, 'epoch': 1.0})"
   ]
  },
  {
   "cell_type": "code",
   "execution_count": 49,
   "id": "ccfc9d35",
   "metadata": {
    "scrolled": true
   },
   "outputs": [
    {
     "data": {
      "text/html": [
       "\n",
       "    <div>\n",
       "      \n",
       "      <progress value='121' max='121' style='width:300px; height:20px; vertical-align: middle;'></progress>\n",
       "      [121/121 24:35]\n",
       "    </div>\n",
       "    "
      ],
      "text/plain": [
       "<IPython.core.display.HTML object>"
      ]
     },
     "metadata": {},
     "output_type": "display_data"
    },
    {
     "data": {
      "text/plain": [
       "{'eval_loss': 3.7342700958251953,\n",
       " 'eval_rouge1': 34.1167,\n",
       " 'eval_rouge2': 13.6136,\n",
       " 'eval_rougeL': 27.1978,\n",
       " 'eval_rougeLsum': 33.0099,\n",
       " 'eval_gen_len': 32.8657,\n",
       " 'eval_runtime': 1487.0012,\n",
       " 'eval_samples_per_second': 0.325,\n",
       " 'eval_steps_per_second': 0.081,\n",
       " 'epoch': 1.0}"
      ]
     },
     "execution_count": 49,
     "metadata": {},
     "output_type": "execute_result"
    }
   ],
   "source": [
    "trainer.evaluate()"
   ]
  },
  {
   "cell_type": "code",
   "execution_count": null,
   "id": "740aa3a6",
   "metadata": {},
   "outputs": [],
   "source": []
  },
  {
   "cell_type": "code",
   "execution_count": 50,
   "id": "91e3a6e8",
   "metadata": {},
   "outputs": [],
   "source": [
    "trainer.save_model(\"C:/Users/yaroslav/Desktop/model\")\n"
   ]
  },
  {
   "cell_type": "code",
   "execution_count": 51,
   "id": "a86a2b2a",
   "metadata": {},
   "outputs": [
    {
     "data": {
      "text/plain": [
       "('C:/Users/yaroslav/Desktop/model\\\\tokenizer_config.json',\n",
       " 'C:/Users/yaroslav/Desktop/model\\\\special_tokens_map.json',\n",
       " 'C:/Users/yaroslav/Desktop/model\\\\vocab.json',\n",
       " 'C:/Users/yaroslav/Desktop/model\\\\merges.txt',\n",
       " 'C:/Users/yaroslav/Desktop/model\\\\added_tokens.json',\n",
       " 'C:/Users/yaroslav/Desktop/model\\\\tokenizer.json')"
      ]
     },
     "execution_count": 51,
     "metadata": {},
     "output_type": "execute_result"
    }
   ],
   "source": [
    "tokenizer.save_pretrained(\"C:/Users/yaroslav/Desktop/model\")"
   ]
  },
  {
   "cell_type": "code",
   "execution_count": 4,
   "id": "4cbc90c9",
   "metadata": {},
   "outputs": [],
   "source": [
    "model = AutoModelForSeq2SeqLM.from_pretrained(\"C:/Users/yaroslav/Desktop/model\")"
   ]
  },
  {
   "cell_type": "code",
   "execution_count": 5,
   "id": "d66da921",
   "metadata": {},
   "outputs": [],
   "source": [
    "tokenizer = AutoTokenizer.from_pretrained(\"C:/Users/yaroslav/Desktop/model\")"
   ]
  },
  {
   "cell_type": "code",
   "execution_count": 32,
   "id": "ca4118c5",
   "metadata": {},
   "outputs": [],
   "source": [
    "def generate_summary(test_samples, model):\n",
    "    inputs = tokenizer(\n",
    "        test_samples[\"document\"],\n",
    "        truncation=True,\n",
    "        max_length=max_enxoder_length,\n",
    "        return_tensors=\"pt\",\n",
    "        padding=True\n",
    "    ).to(device)\n",
    "    input_ids = inputs['input_ids']\n",
    "    attention_mask = inputs['attention_mask']\n",
    "    outputs = model.generate(input_ids, attention_mask=attention_mask)\n",
    "    output_str = tokenizer.batch_decode(outputs, skip_special_tokens=True)\n",
    "    return outputs, output_str\n",
    "\n",
    "\n",
    "model_before_tuning = AutoModelForSeq2SeqLM.from_pretrained(model_name)\n",
    "test_samples = validation_data_txt.select(range(5))\n",
    "summaries_after_tuning = generate_summary(test_samples, model)[1]"
   ]
  },
  {
   "cell_type": "code",
   "execution_count": 33,
   "id": "a5d0775a",
   "metadata": {},
   "outputs": [
    {
     "name": "stdout",
     "output_type": "stream",
     "text": [
      "  Id  Summary after\n",
      "----  ---------------------------------------------------------------------------------------------------------------------------------------\n",
      "   0  Ask a hypnotherapist to guide you through past life regression.\n",
      "   1  Put the scrap wood on top of the tree stump. Light the fire. Let the fire burn until it's gone.\n",
      "   2  Turn on the wireless function switch.\n",
      "   3  Go over your relationship to find the answers you need. Identify what went wrong. Learn from your relationship. Look back on your past.\n",
      "   4  Exercise to improve mobility, posture, and balance. Consider deep brain stimulation.\n",
      "\n",
      "Target summaries:\n",
      "\n",
      "  Id  Target summary\n",
      "----  -------------------------------------------------------------------------------------------------------------------------------------------------------------------------------------------------------------------------------------\n",
      "   0  Visit a hypnotherapist. Congratulations!\n",
      "   1  Construct a teepee-like shape over the stump with scrap wood. Light the scrap wood and wait for the stump to ignite. Add more wood to keep the fire going as necessary. Monitor the stump until all the wood has been reduced to ash.\n",
      "   2  Power on your HP laptop. Locate the external switch for the wireless function. Slide or press the switch into the on position.\n",
      "   3  Don’t spend more time than needed on this. Review your relationship in order to move on. Ask yourself if he was right for you. Keep your emotions in check. Examine how you deal with fights and disagreements.\n",
      "   4  Try medications. Exercise to slow the progression of the disease. See a physical therapist. Ask about surgical options for treating PD.\n",
      "\n",
      "Source documents:\n",
      "\n",
      "  Id  Document\n",
      "----  ----------------------------------------------------------------------------------------------------------------------------------------------------------------------------------------------------------------------------------------------------------------------------------------------------------------------------------------------------------------------------------------------------------------------------------------------------------------------------------------------------------------------------------------------------------------------------------------------------------------------------------------------------------------------------------------------------------------------------------------------------------------------------------------------------------------------------------------------------------------------------------------------------------------------------------------------------------------------------------------------------------------------------------------------------------------------------------------------------------------------------------------------------------------------------------------------------------------------------------------------------------------------------------------------------------------------------------------------------------------------------------------------------------------------------------------------------------------------------------------------------------------------------------------------------------------------------------------------------------------------------------------------------------------------------------------------------------------------------------------------------------------------------------------------------------------------------------------------------------------------------------------------------------------------------------------------------------------------------------------------------------------------------------------------------------------------------------------------------------------------------------------------------------------------------------------------------------------------------------------------------------------------------------------------------------------------\n",
      "   0  Sometimes, past life regression requires tools that we are unable to master—self-hypnosis, for example, can be very difficult. Certified hypnotherapists who specialize in past life regression have been trained in the necessary fields. Here's how you can expect them to direct you:  They may play music as they talk you into a relaxed state, making you feel safe, warm, and comfortable. Let yourself follow along, and find your inner calm. Clear your mind of directed thought, and let whatever comes to you happen naturally. Relax your muscles in your body, especially your neck and shoulders letting the tension release. As you relax deeper, they may talk about the light, letting it flow through you, reaching into every part of your body, until it totally surrounds you. Once you are prepared and totally relaxed, they will open the doors to your many past lives by guiding you back through time. They'll encourage you to explore your memories, with as much detail as you recall. They may take you back to the womb, and talk you through being reborn in a past life. When you've discovered your past life, they will guide you through it, encouraging you to feel it as you remember it, only this time when you awake, you'll have full knowledge of your past. When you're session draws to the close, the hypnotherapist will slowly bring your back to the present reality and your current life. You have just experienced your past life.\n",
      "   1  Place one end of each piece of scrap wood on the ground at an angle and have the opposite ends all meet over the top of the stump in a cone shape.  This is a common method of assembling firewood over open flames to promote combustibility. You can also simply put the scrap wood on top of the tree stump. However, the stump may take longer to ignite this way. Use a match of kindling to light the scrap wood from the bottom. Do NOT use gas to light the scrap wood.  The time it takes for a stump to catch on fire varies on a case-by-case basis. Allow up to 1 hour for the stump itself to ignite. Dry leaves, dry bark, and even dryer lint all make good kindling when starting a fire. Any dry, easily shredded material makes great kindling. Your stump will probably take several hours, or maybe even days, to completely burn. Add scrap wood to the fire as necessary to keep burning the stump until it's gone.  You will most likely not have to add any wood to the fire for a small stump; the initial fire will probably be enough to burn the entire stump. If your stump takes more than a day to be removed through burning, add wood to the fire until midnight, then let it burn until the morning. The fire will weaken overnight but in all likelihood will not die out. As the stump smolders and the wood is turned to ash, keep an eye on the stump to make sure the fire is under control and doesn't need to be rekindled.  Be ready to put out the fire with water or dirt if it begins to burn out of control or threaten to spread to the surrounding area.  Schedule a hefty block of time in which to carry out your burning; the stump will probably take at least an hour or 2 to be removed.\n",
      "   2  Most HP laptop models are fitted with a switch on the side or front of the computer than can be used to turn on the wireless functions. If not on the side or front, the switch may be above the keyboard or on one of the function keys at the top of the keyboard. The switch is indicated by an icon that looks like a wireless tower emitting signals. The indicator light on the key will turn from amber to blue when wireless is enabled.\n",
      "   3  It might sound counter-intuitive, but going over what went wrong is an important step in healing, and yet it can also also prolong hurt feelings and confusion if you overdo it. How much time you need depends entirely on you, but aim to find the right balance. Go over your relationship to find the answers you need, and then put it behind you. For example, if he's grown distant because he's started hanging out with a much different crowd, acknowledging this is necessary for you to come to terms with what happened, but dwelling on it won't really accomplish anything. Identify what went wrong, but avoid the temptation of using your answers as a means to correcting mistakes and winning him back. Instead, aim to learn from your experience so you can apply those lessons to future relationships. Keep the future in mind, not the past. For instance, let's say that he broke things off because you betrayed a secret that he told you in confidence. Whether he can trust you again is up to him. All you can do is learn from this so you can avoid repeating the same mistake with someone else. Whether your relationship was romantic or platonic, perhaps the easiest explanation of why things went wrong is that the two of you weren’t well suited for each other. Evaluate your own wants, needs, hopes, and interests. Compare them with his. If they’re wildly different, also look back on other guys in your life. Ask yourself if they fall into a pattern so you know what to avoid in the future. Emotions are a fact of life, so don’t feel guilty about feeling whatever feelings come to you. However, keep in mind that a successful, mature relationship often requires you to have some (if not total) control over those feelings. Evaluate how often you allowed yourself to be swept away by them, especially the negative ones, like anger. Things may have been great between you two as long as everything else was fine, but his feelings may have changed after the two of you found yourself at odds. Think back about how you handled yourself in those moments. Ask yourself if there was a more positive way you could have approached them in order to resolve conflicts.\n",
      "   4  Unfortunately, there aren't any cures for Parkinson’s Disease yet. However, a wide array of medications are available to treat different symptoms. Some of the medications for treating PD include:  Levodopa/Carbidopa (Sinemet, Parcopa, Stalevo, etc.), which treats the various motor symptoms seen in both early and advanced PD Dopamine agonists (Apokyn, Parlodel, Neupro, etc.), which stimulate dopamine receptors to trick the brain into believing it is receiving dopamine Anticholinergics (Artane, Cogentin, etc.), which are primarily used to help treat tremors MAO-B inhibitors (Eldepryl, Carbex, Zelapar, etc.), which help enhance the effects of levodopa COMT inhibitors (Comtan, Tasmar), which block the body’s metabolism of levodopa, prolonging the effects Though exercise is by no means a permanent solution to the effects of PD, it has been shown to reduce stiffness and improve mobility, gait, posture, and balance. Aerobic exercises that require good biomechanics, posture, rotation, and rhythmic movements have proven especially beneficial. Types of exercise that can help include:  Dancing Yoga Tai Chi Volleyball and tennis Aerobics classes Boxing, which is great for improving stability and coordination To find the best fitness regimen based on your specific progression of PD, consult a physical therapist. A physical therapist can tailor a routine to target the areas where you have started experiencing stiffness or decreased mobility. You should also consult your physical therapist for periodic reevaluation of your routine both to ensure maximum effectiveness of the regimen and to keep up with the progression of the disease. Deep brain stimulation (DBS) is a surgical procedure that has revolutionized the treatment of PD in its later stages. The procedure involves implanting electrodes into the targeted region of the brain, which are then connected to an impulse generator inserted beneath the collarbone. The patient is then given a controller to turn the device on or off at necessary times. The effects of DBS are often dramatic and doctors may recommend this route for those who experience disabling tremors, those with adverse side effects to medication, or if medications begin losing their efficacy.\n"
     ]
    }
   ],
   "source": [
    "print(\n",
    "    tabulate(\n",
    "        zip(\n",
    "            range(len(summaries_after_tuning)),\n",
    "            summaries_after_tuning,\n",
    "            \n",
    "        ),\n",
    "        headers=[\"Id\", \"Summary after\"],\n",
    "    )\n",
    ")\n",
    "print(\"\\nTarget summaries:\\n\")\n",
    "print(\n",
    "    tabulate(list(enumerate(test_samples[\"summary\"])), headers=[\"Id\", \"Target summary\"])\n",
    ")\n",
    "print(\"\\nSource documents:\\n\")\n",
    "print(tabulate(list(enumerate(test_samples[\"document\"])), headers=[\"Id\", \"Document\"]))"
   ]
  },
  {
   "cell_type": "code",
   "execution_count": null,
   "id": "74590bc2",
   "metadata": {},
   "outputs": [],
   "source": []
  }
 ],
 "metadata": {
  "kernelspec": {
   "display_name": "torchenv",
   "language": "python",
   "name": "torchenv"
  },
  "language_info": {
   "codemirror_mode": {
    "name": "ipython",
    "version": 3
   },
   "file_extension": ".py",
   "mimetype": "text/x-python",
   "name": "python",
   "nbconvert_exporter": "python",
   "pygments_lexer": "ipython3",
   "version": "3.11.5"
  }
 },
 "nbformat": 4,
 "nbformat_minor": 5
}
